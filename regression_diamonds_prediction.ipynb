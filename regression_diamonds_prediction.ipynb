{
  "nbformat": 4,
  "nbformat_minor": 0,
  "metadata": {
    "colab": {
      "provenance": [],
      "authorship_tag": "ABX9TyNAenOXAmn13C8aqDp8aV5X",
      "include_colab_link": true
    },
    "kernelspec": {
      "name": "python3",
      "display_name": "Python 3"
    },
    "language_info": {
      "name": "python"
    }
  },
  "cells": [
    {
      "cell_type": "markdown",
      "metadata": {
        "id": "view-in-github",
        "colab_type": "text"
      },
      "source": [
        "<a href=\"https://colab.research.google.com/github/Jaiquisic23/Artificial-Neural-Networks/blob/main/regression_diamonds_prediction.ipynb\" target=\"_parent\"><img src=\"https://colab.research.google.com/assets/colab-badge.svg\" alt=\"Open In Colab\"/></a>"
      ]
    },
    {
      "cell_type": "code",
      "execution_count": null,
      "metadata": {
        "id": "hPe1On9Bz2jn"
      },
      "outputs": [],
      "source": [
        "''''\n",
        "It is a regression task. The goal is to predict diamond price using the basic\n",
        "diamond properties. Use price columns as labels. Handle categorical features.\n",
        "Split the dataset into training and validation subset. Create training and\n",
        "validation pipeline. Try to reach minimum cost value and prevent over-fitting.\n",
        "\n",
        "Some hints:\n",
        "1. The easiest way to load a csv file is using Pandas read_csv method\n",
        "\n",
        "2. You can handle categorical features using scikit-learn estimators:\n",
        "OrdinalEncoder or OneHotEncoder.\n",
        "\n",
        "3. Columns have different scales normalize them before training. For this\n",
        "purpose you can use Tensorflow LayerNormalization layer.\n",
        "\n",
        "3. It is a regression task so be aware of correct model architecture and cost\n",
        "function. Typical regressions cost functions are: MAE, MSE. If you want to\n",
        "predict output in range(0, 1000) then you can not use sigmoid activation\n",
        "function in output layer.\n",
        "''''"
      ]
    },
    {
      "cell_type": "code",
      "source": [
        "import"
      ],
      "metadata": {
        "id": "V7YkQTTW4CK1"
      },
      "execution_count": null,
      "outputs": []
    }
  ]
}